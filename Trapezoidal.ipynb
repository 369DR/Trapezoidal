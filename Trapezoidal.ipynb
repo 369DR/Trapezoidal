# Metode Trapezoidal
from math import e  # Untuk memanggil bilangan eksponen natural (e)

# Definisikan fungsi yang akan diintegralkan
def f(x):
    return e**x

# Implementasi Metode Trapezoidal
def trapezoidal(x0, xn, n):
    #hitung ukuran h/ selisih xi dan xi+1
    h = (xn - x0) / n

    # Tentukan Jumlah
    integration = f(x0) + f(xn)

    for i in range(1, n):
        k = x0 + i * h
        integration += 2 * f(k)

    # Final Integral
    integration = integration * h / 2

    return integration

# Sesi Input
lower_limit = float(input("Masukkan Batas Bawah Daerah Integral: "))
upper_limit = float(input("Masukkan Batas Atas Daerah Integral: "))
sub_interval = int(input("Masukkan Jumlah Pias: "))

# Numerikal Trapezoidal
result = trapezoidal(lower_limit, upper_limit, sub_interval)
print(f"\nHasil Integral dengan Metode Trapezoidal: %0.6f" % (result))
